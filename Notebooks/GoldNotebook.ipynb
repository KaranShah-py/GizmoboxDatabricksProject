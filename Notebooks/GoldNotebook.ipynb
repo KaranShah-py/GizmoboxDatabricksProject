{
 "cells": [
  {
   "cell_type": "markdown",
   "metadata": {
    "application/vnd.databricks.v1+cell": {
     "cellMetadata": {},
     "inputWidgets": {},
     "nuid": "b6d97998-ffa1-4748-849a-ec4a3db8395d",
     "showTitle": false,
     "tableResultSettingsMap": {},
     "title": ""
    }
   },
   "source": [
    "### Gold Notebook\n",
    "- This notebook is used to create the aggregations for the users"
   ]
  },
  {
   "cell_type": "markdown",
   "metadata": {
    "application/vnd.databricks.v1+cell": {
     "cellMetadata": {},
     "inputWidgets": {},
     "nuid": "47f37d66-b95d-4c7f-bde3-7828522648fc",
     "showTitle": false,
     "tableResultSettingsMap": {},
     "title": ""
    }
   },
   "source": [
    "### Join Customers and Addresses Table"
   ]
  },
  {
   "cell_type": "code",
   "execution_count": 0,
   "metadata": {
    "application/vnd.databricks.v1+cell": {
     "cellMetadata": {
      "byteLimit": 2048000,
      "implicitDf": true,
      "rowLimit": 10000
     },
     "inputWidgets": {},
     "nuid": "029e0163-4ea9-4581-a28d-c464b1bcad57",
     "showTitle": true,
     "tableResultSettingsMap": {},
     "title": "Exploring the Customers"
    }
   },
   "outputs": [],
   "source": [
    "%sql\n",
    "SELECT *\n",
    "FROM gizmoboxcatalog.silverschema.customers;"
   ]
  },
  {
   "cell_type": "code",
   "execution_count": 0,
   "metadata": {
    "application/vnd.databricks.v1+cell": {
     "cellMetadata": {
      "byteLimit": 2048000,
      "implicitDf": true,
      "rowLimit": 10000
     },
     "inputWidgets": {},
     "nuid": "2dabe238-53ca-4a78-adab-4b197532638a",
     "showTitle": true,
     "tableResultSettingsMap": {},
     "title": "Exploring the Addresses"
    }
   },
   "outputs": [],
   "source": [
    "%sql\n",
    "SELECT *\n",
    "FROM gizmoboxcatalog.silverschema.addresses;"
   ]
  },
  {
   "cell_type": "code",
   "execution_count": 0,
   "metadata": {
    "application/vnd.databricks.v1+cell": {
     "cellMetadata": {
      "byteLimit": 2048000,
      "implicitDf": true,
      "rowLimit": 10000
     },
     "inputWidgets": {},
     "nuid": "533cd23b-9966-44b6-a36a-a5867e68a94a",
     "showTitle": true,
     "tableResultSettingsMap": {},
     "title": "Joining the tables"
    }
   },
   "outputs": [],
   "source": [
    "%sql\n",
    "SELECT\n",
    "  T1.customer_id AS CUSTOMER_ID, \n",
    "  T1.customer_name AS CUSTOMER_NAME, \n",
    "  T1.email AS EMAIL, \n",
    "  T1.date_of_birth AS DATE_OF_BIRTH, \n",
    "  T1.member_since AS MEMBER_SINCE, \n",
    "  T1.telephone AS TELEPHONE, \n",
    "  T2.shipping_address_line_1 AS SHIPPING_ADDRESS_LINE_1, \n",
    "  T2.shipping_city AS SHIPPING_CITY, \n",
    "  T2.shipping_state AS SHIPPING_STATE, \n",
    "  T2.shipping_postcode AS SHIPPING_POSTCODE, \n",
    "  T2.billing_address_line_1 AS BILLING_ADDRESS_LINE_1, \n",
    "  T2.billing_city AS BILLING_CITY, \n",
    "  T2.billing_state AS BILLING_STATE, \n",
    "  T2.billing_postcode AS BILLING_POSTCODE\n",
    "FROM gizmoboxcatalog.silverschema.customers AS T1\n",
    "INNER JOIN gizmoboxcatalog.silverschema.addresses AS T2\n",
    "ON T1.customer_id = T2.customer_id;"
   ]
  },
  {
   "cell_type": "code",
   "execution_count": 0,
   "metadata": {
    "application/vnd.databricks.v1+cell": {
     "cellMetadata": {
      "byteLimit": 2048000,
      "implicitDf": true,
      "rowLimit": 10000
     },
     "inputWidgets": {},
     "nuid": "ed4bdf4d-0cd2-4248-b822-e690265b55f6",
     "showTitle": true,
     "tableResultSettingsMap": {},
     "title": "Creating the Joined Customer and Addresses"
    }
   },
   "outputs": [],
   "source": [
    "%sql\n",
    "CREATE OR REPLACE TABLE gizmoboxcatalog.goldschema.customers_and_address\n",
    "AS \n",
    "SELECT\n",
    "  T1.customer_id AS CUSTOMER_ID, \n",
    "  T1.customer_name AS CUSTOMER_NAME, \n",
    "  T1.email AS EMAIL, \n",
    "  T1.date_of_birth AS DATE_OF_BIRTH, \n",
    "  T1.member_since AS MEMBER_SINCE, \n",
    "  T1.telephone AS TELEPHONE, \n",
    "  T2.shipping_address_line_1 AS SHIPPING_ADDRESS_LINE_1, \n",
    "  T2.shipping_city AS SHIPPING_CITY, \n",
    "  T2.shipping_state AS SHIPPING_STATE, \n",
    "  T2.shipping_postcode AS SHIPPING_POSTCODE, \n",
    "  T2.billing_address_line_1 AS BILLING_ADDRESS_LINE_1, \n",
    "  T2.billing_city AS BILLING_CITY, \n",
    "  T2.billing_state AS BILLING_STATE, \n",
    "  T2.billing_postcode AS BILLING_POSTCODE\n",
    "FROM gizmoboxcatalog.silverschema.customers AS T1\n",
    "INNER JOIN gizmoboxcatalog.silverschema.addresses AS T2\n",
    "ON T1.customer_id = T2.customer_id;"
   ]
  },
  {
   "cell_type": "code",
   "execution_count": 0,
   "metadata": {
    "application/vnd.databricks.v1+cell": {
     "cellMetadata": {
      "byteLimit": 2048000,
      "implicitDf": true,
      "rowLimit": 10000
     },
     "inputWidgets": {},
     "nuid": "6163192f-1f2e-41da-be96-08eb6f8ffc55",
     "showTitle": true,
     "tableResultSettingsMap": {},
     "title": "Exploring the Customers and Addresses"
    }
   },
   "outputs": [],
   "source": [
    "%sql\n",
    "SELECT * FROM gizmoboxcatalog.goldschema.customers_and_address;"
   ]
  },
  {
   "cell_type": "markdown",
   "metadata": {
    "application/vnd.databricks.v1+cell": {
     "cellMetadata": {},
     "inputWidgets": {},
     "nuid": "e09cd5d2-5dc0-4d15-8f53-f1b7f1a6c31e",
     "showTitle": false,
     "tableResultSettingsMap": {},
     "title": ""
    }
   },
   "source": [
    "### Monthly Order Summary \n",
    "1. total orders\n",
    "2. total items bought \n",
    "3. total amount spent"
   ]
  },
  {
   "cell_type": "code",
   "execution_count": 0,
   "metadata": {
    "application/vnd.databricks.v1+cell": {
     "cellMetadata": {
      "byteLimit": 2048000,
      "implicitDf": true,
      "rowLimit": 10000
     },
     "inputWidgets": {},
     "nuid": "f2a5c80f-25b9-4a6e-9861-87e6cde8a4ec",
     "showTitle": true,
     "tableResultSettingsMap": {},
     "title": "Orders Summary Table"
    }
   },
   "outputs": [],
   "source": [
    "%sql\n",
    "SELECT\n",
    "  date_format(transaction_timestamp, 'yyyy-MM') AS order_month, \n",
    "  customer_id, \n",
    "  COUNT(DISTINCT order_id) AS total_orders, \n",
    "  SUM(quantity) AS total_items_bought, \n",
    "  SUM(price * quantity) AS total_amount\n",
    "FROM gizmoboxcatalog.silverschema.orders\n",
    "GROUP BY order_month, customer_id;"
   ]
  },
  {
   "cell_type": "code",
   "execution_count": 0,
   "metadata": {
    "application/vnd.databricks.v1+cell": {
     "cellMetadata": {
      "byteLimit": 2048000,
      "implicitDf": true,
      "rowLimit": 10000
     },
     "inputWidgets": {},
     "nuid": "133873a3-517c-4f12-b4d6-900c1de52848",
     "showTitle": true,
     "tableResultSettingsMap": {},
     "title": "Creating the Orders Table"
    }
   },
   "outputs": [],
   "source": [
    "%sql\n",
    "CREATE OR REPLACE TABLE gizmoboxcatalog.goldschema.order_summary\n",
    "AS \n",
    "SELECT\n",
    "  date_format(transaction_timestamp, 'yyyy-MM') AS order_month, \n",
    "  customer_id, \n",
    "  COUNT(DISTINCT order_id) AS total_orders, \n",
    "  SUM(quantity) AS total_items_bought, \n",
    "  SUM(price * quantity) AS total_amount\n",
    "FROM gizmoboxcatalog.silverschema.orders\n",
    "GROUP BY order_month, customer_id;"
   ]
  }
 ],
 "metadata": {
  "application/vnd.databricks.v1+notebook": {
   "computePreferences": null,
   "dashboards": [],
   "environmentMetadata": {
    "base_environment": "",
    "environment_version": "3"
   },
   "inputWidgetPreferences": null,
   "language": "python",
   "notebookMetadata": {
    "mostRecentlyExecutedCommandWithImplicitDF": {
     "commandId": 4878752746747132,
     "dataframes": [
      "_sqldf"
     ]
    },
    "pythonIndentUnit": 4
   },
   "notebookName": "GoldNotebook",
   "widgets": {}
  },
  "language_info": {
   "name": "python"
  }
 },
 "nbformat": 4,
 "nbformat_minor": 0
}
