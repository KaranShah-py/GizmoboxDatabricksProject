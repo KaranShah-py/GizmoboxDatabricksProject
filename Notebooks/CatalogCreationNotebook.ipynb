{
 "cells": [
  {
   "cell_type": "markdown",
   "metadata": {
    "application/vnd.databricks.v1+cell": {
     "cellMetadata": {
      "byteLimit": 2048000,
      "rowLimit": 10000
     },
     "inputWidgets": {},
     "nuid": "f35c30b4-4802-461d-85af-2751788432b5",
     "showTitle": false,
     "tableResultSettingsMap": {},
     "title": ""
    }
   },
   "source": [
    "#Catalogs And Schemas"
   ]
  },
  {
   "cell_type": "code",
   "execution_count": 0,
   "metadata": {
    "application/vnd.databricks.v1+cell": {
     "cellMetadata": {
      "byteLimit": 2048000,
      "rowLimit": 10000
     },
     "inputWidgets": {},
     "nuid": "3e6cfb7f-c568-43a1-a1d7-a68ba78e36a2",
     "showTitle": true,
     "tableResultSettingsMap": {},
     "title": "Catalog Creation"
    }
   },
   "outputs": [],
   "source": [
    "%sql\n",
    "-- Creating the catalog \n",
    "CREATE CATALOG IF NOT EXISTS GizmoBoxCatalog;\n",
    "\n",
    "-- Using the catalog\n",
    "USE Catalog GizmoBoxCatalog;"
   ]
  },
  {
   "cell_type": "code",
   "execution_count": 0,
   "metadata": {
    "application/vnd.databricks.v1+cell": {
     "cellMetadata": {
      "byteLimit": 2048000,
      "rowLimit": 10000
     },
     "inputWidgets": {},
     "nuid": "832dd600-362b-4744-b817-0ebe97f19215",
     "showTitle": true,
     "tableResultSettingsMap": {},
     "title": "Schema Creation"
    }
   },
   "outputs": [],
   "source": [
    "%sql\n",
    "-- Creating the Schema for Bronze Files\n",
    "CREATE SCHEMA IF NOT EXISTS GizmoBoxCatalog.BronzeSchema;\n",
    "\n",
    "-- Creating the Schema for Silver Files \n",
    "CREATE SCHEMA IF NOT EXISTS GizmoBoxCatalog.SilverSchema;\n",
    "\n",
    "-- Creating the Schema for Gold Files \n",
    "CREATE SCHEMA IF NOT EXISTS GizmoBoxCatalog.GoldSchema;"
   ]
  }
 ],
 "metadata": {
  "application/vnd.databricks.v1+notebook": {
   "computePreferences": null,
   "dashboards": [],
   "environmentMetadata": {
    "base_environment": "",
    "environment_version": "3"
   },
   "inputWidgetPreferences": null,
   "language": "python",
   "notebookMetadata": {
    "pythonIndentUnit": 4
   },
   "notebookName": "CatalogCreationNotebook",
   "widgets": {}
  },
  "language_info": {
   "name": "python"
  }
 },
 "nbformat": 4,
 "nbformat_minor": 0
}
