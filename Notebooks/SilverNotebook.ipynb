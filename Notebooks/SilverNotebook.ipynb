{
 "cells": [
  {
   "cell_type": "markdown",
   "metadata": {
    "application/vnd.databricks.v1+cell": {
     "cellMetadata": {
      "byteLimit": 2048000,
      "rowLimit": 10000
     },
     "inputWidgets": {},
     "nuid": "0c8e0a49-2a3d-477b-9edf-d999841b4e16",
     "showTitle": false,
     "tableResultSettingsMap": {},
     "title": ""
    }
   },
   "source": [
    "# Silver Notebook"
   ]
  },
  {
   "cell_type": "markdown",
   "metadata": {
    "application/vnd.databricks.v1+cell": {
     "cellMetadata": {
      "byteLimit": 2048000,
      "rowLimit": 10000
     },
     "inputWidgets": {},
     "nuid": "ca968350-8b29-4ec1-b755-1fa82eee65e9",
     "showTitle": false,
     "tableResultSettingsMap": {},
     "title": ""
    }
   },
   "source": [
    "## The following Notebook will aim to \n",
    "- Perform data transformations on the data \n",
    "- Make the data ready for the Gold layer"
   ]
  },
  {
   "cell_type": "markdown",
   "metadata": {
    "application/vnd.databricks.v1+cell": {
     "cellMetadata": {
      "byteLimit": 2048000,
      "rowLimit": 10000
     },
     "inputWidgets": {},
     "nuid": "46c0226c-d1e4-441a-9565-ec159e6b9f54",
     "showTitle": false,
     "tableResultSettingsMap": {},
     "title": ""
    }
   },
   "source": [
    "### Customers Data \n",
    "Transformations to do on the volume from Bronze Schema\n",
    "- Remove the records with Null Customer_id \n",
    "- Remove exact Duplicate Records\n",
    "- Remove the Duplicate Records based on created_timestamp \n",
    "- CAST the columns to the correct Data Type \n",
    "- Write the transformed data to the silver schema"
   ]
  },
  {
   "cell_type": "code",
   "execution_count": 0,
   "metadata": {
    "application/vnd.databricks.v1+cell": {
     "cellMetadata": {
      "byteLimit": 2048000,
      "implicitDf": true,
      "rowLimit": 10000
     },
     "inputWidgets": {},
     "nuid": "f6db12b2-934c-4b66-8709-5cac13b7ffc8",
     "showTitle": true,
     "tableResultSettingsMap": {},
     "title": "Remove the Records with Null customer ID"
    }
   },
   "outputs": [],
   "source": [
    "%sql\n",
    "SELECT *\n",
    "FROM gizmoboxcatalog.bronzeschema.v_customers\n",
    "WHERE customer_id IS NOT NULL;"
   ]
  },
  {
   "cell_type": "code",
   "execution_count": 0,
   "metadata": {
    "application/vnd.databricks.v1+cell": {
     "cellMetadata": {
      "byteLimit": 2048000,
      "implicitDf": true,
      "rowLimit": 10000
     },
     "inputWidgets": {},
     "nuid": "7902198c-1956-40b1-8d80-bf8eb1909b27",
     "showTitle": true,
     "tableResultSettingsMap": {},
     "title": "Remove Exactly Duplicate Records"
    }
   },
   "outputs": [],
   "source": [
    "%sql\n",
    "SELECT DISTINCT \n",
    "  *\n",
    "FROM gizmoboxcatalog.bronzeschema.v_customers\n",
    "WHERE CUSTOMER_ID IS NOT NULL\n",
    "ORDER BY CUSTOMER_ID ASC;"
   ]
  },
  {
   "cell_type": "code",
   "execution_count": 0,
   "metadata": {
    "application/vnd.databricks.v1+cell": {
     "cellMetadata": {
      "byteLimit": 2048000,
      "implicitDf": true,
      "rowLimit": 10000
     },
     "inputWidgets": {},
     "nuid": "ac15a60b-a02f-4e0b-b857-c1882527e547",
     "showTitle": true,
     "tableResultSettingsMap": {},
     "title": "Creating the view in the silver schema "
    }
   },
   "outputs": [],
   "source": [
    "%sql\n",
    "CREATE OR REPLACE VIEW gizmoboxcatalog.silverschema.v_customers_distinct \n",
    "AS\n",
    "SELECT DISTINCT \n",
    "  *\n",
    "FROM gizmoboxcatalog.bronzeschema.v_customers\n",
    "WHERE CUSTOMER_ID IS NOT NULL\n",
    "ORDER BY CUSTOMER_ID ASC;"
   ]
  },
  {
   "cell_type": "code",
   "execution_count": 0,
   "metadata": {
    "application/vnd.databricks.v1+cell": {
     "cellMetadata": {
      "byteLimit": 2048000,
      "implicitDf": true,
      "rowLimit": 10000
     },
     "inputWidgets": {},
     "nuid": "b3e6f195-9fcd-487e-88c6-12b343919925",
     "showTitle": true,
     "tableResultSettingsMap": {},
     "title": "Getting the Highest Timestamp"
    }
   },
   "outputs": [],
   "source": [
    "%sql\n",
    "SELECT \n",
    "  CUSTOMER_ID, \n",
    "  MAX(created_timestamp) AS max_created_timestamp\n",
    "FROM gizmoboxcatalog.silverschema.v_customers_distinct\n",
    "GROUP BY customer_id;"
   ]
  },
  {
   "cell_type": "code",
   "execution_count": 0,
   "metadata": {
    "application/vnd.databricks.v1+cell": {
     "cellMetadata": {
      "byteLimit": 2048000,
      "implicitDf": true,
      "rowLimit": 10000
     },
     "inputWidgets": {},
     "nuid": "626a2774-0da2-44d8-8573-ff2056a972f2",
     "showTitle": true,
     "tableResultSettingsMap": {},
     "title": "Joining the records"
    }
   },
   "outputs": [],
   "source": [
    "%sql\n",
    "WITH CTE AS (\n",
    "  SELECT \n",
    "  CUSTOMER_ID, \n",
    "  MAX(created_timestamp) AS max_created_timestamp\n",
    "  FROM gizmoboxcatalog.silverschema.v_customers_distinct\n",
    "  GROUP BY customer_id\n",
    ")\n",
    "SELECT *\n",
    "FROM gizmoboxcatalog.silverschema.v_customers_distinct AS T1\n",
    "JOIN CTE AS T2\n",
    "ON \n",
    "  T1.CUSTOMER_ID = T2.CUSTOMER_ID\n",
    "  AND \n",
    "  T1.created_timestamp = T2.max_created_timestamp;"
   ]
  },
  {
   "cell_type": "code",
   "execution_count": 0,
   "metadata": {
    "application/vnd.databricks.v1+cell": {
     "cellMetadata": {
      "byteLimit": 2048000,
      "implicitDf": true,
      "rowLimit": 10000
     },
     "inputWidgets": {},
     "nuid": "5be3b004-53f8-4f59-990c-412700ce357e",
     "showTitle": true,
     "tableResultSettingsMap": {},
     "title": "Casting the columns with correct datatypes"
    }
   },
   "outputs": [],
   "source": [
    "%sql\n",
    "WITH CTE AS (\n",
    "  SELECT \n",
    "  CUSTOMER_ID, \n",
    "  MAX(created_timestamp) AS max_created_timestamp\n",
    "  FROM gizmoboxcatalog.silverschema.v_customers_distinct\n",
    "  GROUP BY customer_id\n",
    ")\n",
    "SELECT \n",
    "      CAST(T1.created_timestamp AS TIMESTAMP) AS created_timestamp, \n",
    "      T1.customer_id, \n",
    "      T1.customer_name, \n",
    "      CAST(T1.date_of_birth AS DATE) AS date_of_birth, \n",
    "      T1.email, \n",
    "      CAST(T1.member_since AS DATE) AS member_since, \n",
    "      T1.telephone\n",
    "FROM gizmoboxcatalog.silverschema.v_customers_distinct AS T1\n",
    "JOIN CTE AS T2\n",
    "ON \n",
    "  T1.CUSTOMER_ID = T2.CUSTOMER_ID\n",
    "  AND \n",
    "  T1.created_timestamp = T2.max_created_timestamp;"
   ]
  },
  {
   "cell_type": "code",
   "execution_count": 0,
   "metadata": {
    "application/vnd.databricks.v1+cell": {
     "cellMetadata": {
      "byteLimit": 2048000,
      "implicitDf": true,
      "rowLimit": 10000
     },
     "inputWidgets": {},
     "nuid": "004471f1-52ea-466e-83db-fd9061324c0a",
     "showTitle": true,
     "tableResultSettingsMap": {},
     "title": "Creating the Customers Delta Table"
    }
   },
   "outputs": [],
   "source": [
    "%sql\n",
    "CREATE OR REPLACE TABLE gizmoboxcatalog.silverschema.customers\n",
    "AS\n",
    "WITH CTE AS (\n",
    "  SELECT \n",
    "  CUSTOMER_ID, \n",
    "  MAX(created_timestamp) AS max_created_timestamp\n",
    "  FROM gizmoboxcatalog.silverschema.v_customers_distinct\n",
    "  GROUP BY customer_id\n",
    ")\n",
    "SELECT \n",
    "      CAST(T1.created_timestamp AS TIMESTAMP) AS created_timestamp, \n",
    "      T1.customer_id, \n",
    "      T1.customer_name, \n",
    "      CAST(T1.date_of_birth AS DATE) AS date_of_birth, \n",
    "      T1.email, \n",
    "      CAST(T1.member_since AS DATE) AS member_since, \n",
    "      T1.telephone\n",
    "FROM gizmoboxcatalog.silverschema.v_customers_distinct AS T1\n",
    "JOIN CTE AS T2\n",
    "ON \n",
    "  T1.CUSTOMER_ID = T2.CUSTOMER_ID\n",
    "  AND \n",
    "  T1.created_timestamp = T2.max_created_timestamp;\n",
    "\n",
    "  SELECT *\n",
    "  FROM gizmoboxcatalog.silverschema.customers;"
   ]
  },
  {
   "cell_type": "markdown",
   "metadata": {
    "application/vnd.databricks.v1+cell": {
     "cellMetadata": {
      "byteLimit": 2048000,
      "rowLimit": 10000
     },
     "inputWidgets": {},
     "nuid": "247414f3-fd1b-4daa-a533-962ecd0bf518",
     "showTitle": false,
     "tableResultSettingsMap": {},
     "title": ""
    }
   },
   "source": [
    "### Transforming the Payments Data \n",
    "- Extract the Date and Time from Payments_timestamp and create a new column payment_date and payment_time \n",
    "- Map payment_status to contain descriptive values (1 - Success, 2 - Pending, 3 - Cancelled, 4 - Failed) \n",
    "- Write the transformed data to the silver schema "
   ]
  },
  {
   "cell_type": "code",
   "execution_count": 0,
   "metadata": {
    "application/vnd.databricks.v1+cell": {
     "cellMetadata": {
      "byteLimit": 2048000,
      "implicitDf": true,
      "rowLimit": 10000
     },
     "inputWidgets": {},
     "nuid": "e96db2c1-1859-48ef-8bb6-6ddeeee0be51",
     "showTitle": true,
     "tableResultSettingsMap": {
      "0": {
       "dataGridStateBlob": "{\"version\":1,\"tableState\":{\"columnPinning\":{\"left\":[\"#row_number#\"],\"right\":[]},\"columnSizing\":{},\"columnVisibility\":{}},\"settings\":{\"columns\":{}},\"syncTimestamp\":1756297169775}",
       "filterBlob": null,
       "queryPlanFiltersBlob": null,
       "tableResultIndex": 0
      }
     },
     "title": "Extracting the date and time from payment_timestamp"
    }
   },
   "outputs": [],
   "source": [
    "%sql\n",
    "SELECT\n",
    "  payment_id, \n",
    "  order_id, \n",
    "  CAST(DATE_FORMAT(PAYMENT_TIMESTAMP, 'yyyy-MM-dd') AS DATE) AS payment_date, \n",
    "  DATE_FORMAT(PAYMENT_TIMESTAMP, 'HH:mm:ss') AS payment_time, \n",
    "  payment_status, \n",
    "  payment_method\n",
    "FROM gizmoboxcatalog.bronzeschema.payments;"
   ]
  },
  {
   "cell_type": "code",
   "execution_count": 0,
   "metadata": {
    "application/vnd.databricks.v1+cell": {
     "cellMetadata": {
      "byteLimit": 2048000,
      "implicitDf": true,
      "rowLimit": 10000
     },
     "inputWidgets": {},
     "nuid": "ed68788b-b96d-4d76-ac02-8f60886d41c8",
     "showTitle": true,
     "tableResultSettingsMap": {},
     "title": "Mapping Payment status to categories"
    }
   },
   "outputs": [],
   "source": [
    "%sql\n",
    "SELECT\n",
    "  payment_id, \n",
    "  order_id, \n",
    "  CAST(DATE_FORMAT(PAYMENT_TIMESTAMP, 'yyyy-MM-dd') AS DATE) AS payment_date, \n",
    "  DATE_FORMAT(PAYMENT_TIMESTAMP, 'HH:mm:ss') AS payment_time, \n",
    "  CASE payment_status\n",
    "    WHEN 1 THEN 'Success'\n",
    "    WHEN 2 THEN 'Pending'\n",
    "    WHEN 3 THEN 'Cancelled'\n",
    "    WHEN 4 THEN 'Failed'\n",
    "    ELSE 'Unkown'\n",
    "  END AS payment_status, \n",
    "  payment_method\n",
    "FROM gizmoboxcatalog.bronzeschema.payments;"
   ]
  },
  {
   "cell_type": "code",
   "execution_count": 0,
   "metadata": {
    "application/vnd.databricks.v1+cell": {
     "cellMetadata": {
      "byteLimit": 2048000,
      "implicitDf": true,
      "rowLimit": 10000
     },
     "inputWidgets": {},
     "nuid": "f440b04c-b31a-4da3-91cf-17727392690a",
     "showTitle": true,
     "tableResultSettingsMap": {},
     "title": "Creating the table payments"
    }
   },
   "outputs": [],
   "source": [
    "%sql\n",
    "CREATE OR REPLACE TABLE gizmoboxcatalog.silverschema.payments\n",
    "AS\n",
    "SELECT\n",
    "  payment_id, \n",
    "  order_id, \n",
    "  CAST(DATE_FORMAT(PAYMENT_TIMESTAMP, 'yyyy-MM-dd') AS DATE) AS payment_date, \n",
    "  DATE_FORMAT(PAYMENT_TIMESTAMP, 'HH:mm:ss') AS payment_time, \n",
    "  CASE payment_status\n",
    "    WHEN 1 THEN 'Success'\n",
    "    WHEN 2 THEN 'Pending'\n",
    "    WHEN 3 THEN 'Cancelled'\n",
    "    WHEN 4 THEN 'Failed'\n",
    "    ELSE 'Unkown'\n",
    "  END AS payment_status, \n",
    "  payment_method\n",
    "FROM gizmoboxcatalog.bronzeschema.payments;\n",
    "\n",
    "SELECT *\n",
    "FROM gizmoboxcatalog.silverschema.payments;"
   ]
  },
  {
   "cell_type": "markdown",
   "metadata": {
    "application/vnd.databricks.v1+cell": {
     "cellMetadata": {
      "byteLimit": 2048000,
      "rowLimit": 10000
     },
     "inputWidgets": {},
     "nuid": "be348447-5c75-4a2a-852b-5738e763405e",
     "showTitle": false,
     "tableResultSettingsMap": {},
     "title": ""
    }
   },
   "source": [
    "### Transforming the Addresses Data \n",
    "- Create one record for each customer with 2 sets of address columns, 1 for shipping and 1 for billing \n",
    "- Write the transformed data to the silver schema"
   ]
  },
  {
   "cell_type": "code",
   "execution_count": 0,
   "metadata": {
    "application/vnd.databricks.v1+cell": {
     "cellMetadata": {
      "byteLimit": 2048000,
      "implicitDf": true,
      "rowLimit": 10000
     },
     "inputWidgets": {},
     "nuid": "ba231553-747e-45a1-b4e8-6f6a8b55db3f",
     "showTitle": true,
     "tableResultSettingsMap": {},
     "title": "Exploring the bronze data"
    }
   },
   "outputs": [],
   "source": [
    "%sql\n",
    "SELECT\n",
    "  *\n",
    "FROM gizmoboxcatalog.bronzeschema.v_addresses;"
   ]
  },
  {
   "cell_type": "code",
   "execution_count": 0,
   "metadata": {
    "application/vnd.databricks.v1+cell": {
     "cellMetadata": {
      "byteLimit": 2048000,
      "implicitDf": true,
      "rowLimit": 10000
     },
     "inputWidgets": {},
     "nuid": "17a4a51f-131e-44f4-80fa-732b2ce261bd",
     "showTitle": true,
     "tableResultSettingsMap": {},
     "title": "Creating one record for each customer"
    }
   },
   "outputs": [],
   "source": [
    "%sql\n",
    "SELECT *\n",
    "FROM \n",
    "(\n",
    "  SELECT \n",
    "    CUSTOMER_ID, \n",
    "    ADDRESS_TYPE, \n",
    "    ADDRESS_LINE_1, \n",
    "    CITY, \n",
    "    STATE, \n",
    "    POSTCODE\n",
    "  FROM gizmoboxcatalog.bronzeschema.v_addresses\n",
    ")\n",
    "PIVOT (\n",
    "  MAX(address_line_1) AS address_line_1, \n",
    "  MAX(city) AS city, \n",
    "  MAX(state) AS state, \n",
    "  MAX(postcode) AS postcode\n",
    "  FOR address_type IN ('shipping', 'billing')\n",
    ")"
   ]
  },
  {
   "cell_type": "code",
   "execution_count": 0,
   "metadata": {
    "application/vnd.databricks.v1+cell": {
     "cellMetadata": {
      "byteLimit": 2048000,
      "implicitDf": true,
      "rowLimit": 10000
     },
     "inputWidgets": {},
     "nuid": "da8b14ed-81ab-4313-a2a0-fd43dcdde2e2",
     "showTitle": true,
     "tableResultSettingsMap": {},
     "title": "Creating the table in Silver Schema"
    }
   },
   "outputs": [],
   "source": [
    "%sql\n",
    "CREATE OR REPLACE TABLE gizmoboxcatalog.silverschema.addresses\n",
    "AS \n",
    "SELECT *\n",
    "FROM \n",
    "(\n",
    "  SELECT \n",
    "    CUSTOMER_ID, \n",
    "    ADDRESS_TYPE, \n",
    "    ADDRESS_LINE_1, \n",
    "    CITY, \n",
    "    STATE, \n",
    "    POSTCODE\n",
    "  FROM gizmoboxcatalog.bronzeschema.v_addresses\n",
    ")\n",
    "PIVOT (\n",
    "  MAX(address_line_1) AS address_line_1, \n",
    "  MAX(city) AS city, \n",
    "  MAX(state) AS state, \n",
    "  MAX(postcode) AS postcode\n",
    "  FOR address_type IN ('shipping', 'billing')\n",
    ");\n",
    "\n",
    "SELECT *\n",
    "FROM gizmoboxcatalog.silverschema.addresses;"
   ]
  },
  {
   "cell_type": "markdown",
   "metadata": {
    "application/vnd.databricks.v1+cell": {
     "cellMetadata": {
      "byteLimit": 2048000,
      "rowLimit": 10000
     },
     "inputWidgets": {},
     "nuid": "332df184-07f1-4a21-843e-2c3961b53068",
     "showTitle": false,
     "tableResultSettingsMap": {},
     "title": ""
    }
   },
   "source": [
    "### Transforming the Orders Data \n",
    "- Extract Top Level Column Values \n",
    "- Extract Array Elements \n",
    "- Extract Names Column Values \n",
    "- Cast Columns Values to Specific Data Type"
   ]
  },
  {
   "cell_type": "code",
   "execution_count": 0,
   "metadata": {
    "application/vnd.databricks.v1+cell": {
     "cellMetadata": {
      "byteLimit": 2048000,
      "implicitDf": true,
      "rowLimit": 10000
     },
     "inputWidgets": {},
     "nuid": "ac0d586d-1ea7-4ab6-b5af-4a2cb7d0fe56",
     "showTitle": true,
     "tableResultSettingsMap": {},
     "title": "Exploring the Orders View from Bronze Schema"
    }
   },
   "outputs": [],
   "source": [
    "%sql\n",
    "SELECT *\n",
    "FROM gizmoboxcatalog.bronzeschema.v_orders;"
   ]
  },
  {
   "cell_type": "code",
   "execution_count": 0,
   "metadata": {
    "application/vnd.databricks.v1+cell": {
     "cellMetadata": {
      "byteLimit": 2048000,
      "implicitDf": true,
      "rowLimit": 10000
     },
     "inputWidgets": {},
     "nuid": "dfc05b7b-1d12-481b-b504-4b51606f316b",
     "showTitle": false,
     "tableResultSettingsMap": {},
     "title": ""
    }
   },
   "outputs": [],
   "source": [
    "%sql\n",
    "CREATE OR REPLACE TEMP VIEW tv_orders_fixed \n",
    "AS \n",
    "SELECT \n",
    "  value, \n",
    "  regexp_replace(value, '\"order_date\": (\\\\d{4}-\\\\d{2}-\\\\d{2})', '\"order_date\": \"\\$1\"') AS fixed_value\n",
    "FROM gizmoboxcatalog.bronzeschema.v_orders"
   ]
  },
  {
   "cell_type": "code",
   "execution_count": 0,
   "metadata": {
    "application/vnd.databricks.v1+cell": {
     "cellMetadata": {
      "byteLimit": 2048000,
      "implicitDf": true,
      "rowLimit": 10000
     },
     "inputWidgets": {},
     "nuid": "a37f6abf-3a9f-4fde-b7ed-80de87de2745",
     "showTitle": true,
     "tableResultSettingsMap": {
      "0": {
       "dataGridStateBlob": "{\"version\":1,\"tableState\":{\"columnPinning\":{\"left\":[\"#row_number#\"],\"right\":[]},\"columnSizing\":{},\"columnVisibility\":{}},\"settings\":{\"columns\":{}},\"syncTimestamp\":1756304642168}",
       "filterBlob": null,
       "queryPlanFiltersBlob": null,
       "tableResultIndex": 0
      }
     },
     "title": "Generating the Schema"
    }
   },
   "outputs": [],
   "source": [
    "%sql\n",
    "SELECT \n",
    "    schema_of_json(fixed_value)\n",
    "FROM tv_orders_fixed\n",
    "LIMIT 1; "
   ]
  },
  {
   "cell_type": "code",
   "execution_count": 0,
   "metadata": {
    "application/vnd.databricks.v1+cell": {
     "cellMetadata": {
      "byteLimit": 2048000,
      "implicitDf": true,
      "rowLimit": 10000
     },
     "inputWidgets": {},
     "nuid": "4f9d4d3f-3a7c-48b6-a911-1c1633ed9b67",
     "showTitle": false,
     "tableResultSettingsMap": {},
     "title": ""
    }
   },
   "outputs": [],
   "source": [
    "%sql\n",
    "SELECT\n",
    "    FROM_JSON(\n",
    "      fixed_value,\n",
    "      'STRUCT<customer_id: BIGINT, items: ARRAY<STRUCT<category: STRING, details: STRUCT<brand: STRING, color: STRING>, item_id: BIGINT, name: STRING, price: BIGINT, quantity: BIGINT>>, order_date: STRING, order_id: BIGINT, order_status: STRING, payment_method: STRING, total_amount: BIGINT, transaction_timestamp: STRING>'\n",
    "      ) AS fixed_value\n",
    "FROM tv_orders_fixed;"
   ]
  },
  {
   "cell_type": "code",
   "execution_count": 0,
   "metadata": {
    "application/vnd.databricks.v1+cell": {
     "cellMetadata": {
      "byteLimit": 2048000,
      "implicitDf": true,
      "rowLimit": 10000
     },
     "inputWidgets": {},
     "nuid": "db35b828-e1d6-48b9-ac0d-4b82af309321",
     "showTitle": true,
     "tableResultSettingsMap": {},
     "title": "Creating table orders"
    }
   },
   "outputs": [],
   "source": [
    "%sql\n",
    "CREATE OR REPLACE TABLE gizmoboxcatalog.silverschema.orders AS\n",
    "SELECT\n",
    "  fixed_value.customer_id,\n",
    "  fixed_value.order_id,\n",
    "  fixed_value.order_date,\n",
    "  fixed_value.order_status,\n",
    "  fixed_value.payment_method,\n",
    "  fixed_value.total_amount,\n",
    "  fixed_value.transaction_timestamp,\n",
    "  item.category,\n",
    "  item.details.brand,\n",
    "  item.details.color,\n",
    "  item.item_id,\n",
    "  item.name           AS item_name,\n",
    "  item.price,\n",
    "  item.quantity\n",
    "FROM gizmoboxcatalog.silverschema.orders_json\n",
    "LATERAL VIEW explode(fixed_value.items) AS item;\n"
   ]
  },
  {
   "cell_type": "code",
   "execution_count": 0,
   "metadata": {
    "application/vnd.databricks.v1+cell": {
     "cellMetadata": {
      "byteLimit": 2048000,
      "implicitDf": true,
      "rowLimit": 10000
     },
     "inputWidgets": {},
     "nuid": "fbce4ec3-0380-4e2f-9677-6b12cd2d57b3",
     "showTitle": true,
     "tableResultSettingsMap": {
      "0": {
       "dataGridStateBlob": "{\"version\":1,\"tableState\":{\"columnPinning\":{\"left\":[\"#row_number#\"],\"right\":[]},\"columnSizing\":{},\"columnVisibility\":{}},\"settings\":{\"columns\":{}},\"syncTimestamp\":1756305943390}",
       "filterBlob": null,
       "queryPlanFiltersBlob": null,
       "tableResultIndex": 0
      }
     },
     "title": "Exploring the Orders Table"
    }
   },
   "outputs": [],
   "source": [
    "%sql\n",
    "SELECT *\n",
    "FROM gizmoboxcatalog.silverschema.orders;"
   ]
  },
  {
   "cell_type": "code",
   "execution_count": 0,
   "metadata": {
    "application/vnd.databricks.v1+cell": {
     "cellMetadata": {
      "byteLimit": 2048000,
      "implicitDf": true,
      "rowLimit": 10000
     },
     "inputWidgets": {},
     "nuid": "f3d044d1-e344-4683-b770-40999f2196f1",
     "showTitle": false,
     "tableResultSettingsMap": {},
     "title": ""
    }
   },
   "outputs": [],
   "source": [
    "%sql\n",
    "-- Flatten nested JSON into normal table\n",
    "CREATE OR REPLACE TABLE gizmoboxcatalog.silverschema.orders AS\n",
    "SELECT\n",
    "  customer_id,\n",
    "  order_id,\n",
    "  order_date,\n",
    "  order_status,\n",
    "  payment_method,\n",
    "  total_amount,\n",
    "  transaction_timestamp,\n",
    "  fixed_value.category,\n",
    "  fixed_value.details.brand       AS brand,\n",
    "  fixed_value.details.color       AS color,\n",
    "  fixed_value.item_id,\n",
    "  fixed_value.name                AS item_name,\n",
    "  fixed_value.price,\n",
    "  fixed_value.quantity\n",
    "FROM gizmoboxcatalog.silverschema.orders_json\n",
    "LATERAL VIEW explode(fixed_value.items) AS item;\n"
   ]
  }
 ],
 "metadata": {
  "application/vnd.databricks.v1+notebook": {
   "computePreferences": null,
   "dashboards": [],
   "environmentMetadata": {
    "base_environment": "",
    "environment_version": "3"
   },
   "inputWidgetPreferences": null,
   "language": "python",
   "notebookMetadata": {
    "mostRecentlyExecutedCommandWithImplicitDF": {
     "commandId": 4878752746747119,
     "dataframes": [
      "_sqldf"
     ]
    },
    "pythonIndentUnit": 4
   },
   "notebookName": "SilverNotebook",
   "widgets": {}
  },
  "language_info": {
   "name": "python"
  }
 },
 "nbformat": 4,
 "nbformat_minor": 0
}
