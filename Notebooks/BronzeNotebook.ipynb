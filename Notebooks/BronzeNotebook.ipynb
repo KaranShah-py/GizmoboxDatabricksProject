{
 "cells": [
  {
   "cell_type": "markdown",
   "metadata": {
    "application/vnd.databricks.v1+cell": {
     "cellMetadata": {
      "byteLimit": 2048000,
      "rowLimit": 10000
     },
     "inputWidgets": {},
     "nuid": "5078c420-8a07-440b-b540-d556a6fdb326",
     "showTitle": false,
     "tableResultSettingsMap": {},
     "title": ""
    }
   },
   "source": [
    "#Getting the data from the Bronze Catalog"
   ]
  },
  {
   "cell_type": "markdown",
   "metadata": {
    "application/vnd.databricks.v1+cell": {
     "cellMetadata": {
      "byteLimit": 2048000,
      "rowLimit": 10000
     },
     "inputWidgets": {},
     "nuid": "71e67bf6-c3de-4f40-b1b7-ddc314e6ff65",
     "showTitle": false,
     "tableResultSettingsMap": {},
     "title": ""
    }
   },
   "source": [
    "## The following is the data \n",
    "- This is from the Bronze catalog\n",
    "- The Schema contains the raw files of the data"
   ]
  },
  {
   "cell_type": "markdown",
   "metadata": {
    "application/vnd.databricks.v1+cell": {
     "cellMetadata": {
      "byteLimit": 2048000,
      "rowLimit": 10000
     },
     "inputWidgets": {},
     "nuid": "6d1b7ada-05f9-4198-aa4d-d15c8194058e",
     "showTitle": false,
     "tableResultSettingsMap": {},
     "title": ""
    }
   },
   "source": [
    "### Extracting the Customers Data"
   ]
  },
  {
   "cell_type": "code",
   "execution_count": 0,
   "metadata": {
    "application/vnd.databricks.v1+cell": {
     "cellMetadata": {
      "byteLimit": 2048000,
      "implicitDf": true,
      "rowLimit": 10000
     },
     "inputWidgets": {},
     "nuid": "964417cb-4cb7-43a1-9187-ff7c8e1fdaa6",
     "showTitle": true,
     "tableResultSettingsMap": {},
     "title": "Exploring the data in one customer file"
    }
   },
   "outputs": [],
   "source": [
    "%sql\n",
    "SELECT *\n",
    "FROM json.`/Volumes/gizmoboxcatalog/bronzeschema/rawfiles/customers/customers_2024_10.json`;"
   ]
  },
  {
   "cell_type": "markdown",
   "metadata": {
    "application/vnd.databricks.v1+cell": {
     "cellMetadata": {
      "byteLimit": 2048000,
      "rowLimit": 10000
     },
     "inputWidgets": {},
     "nuid": "f02dc74a-3b8c-4e4a-a154-c2c75fbff9af",
     "showTitle": false,
     "tableResultSettingsMap": {},
     "title": ""
    }
   },
   "source": [
    "### Based on the analysis \n",
    "- The customer data has incorrect datatypes (Date of birth)\n",
    "- Also there must be some other transformations applied on data"
   ]
  },
  {
   "cell_type": "code",
   "execution_count": 0,
   "metadata": {
    "application/vnd.databricks.v1+cell": {
     "cellMetadata": {
      "byteLimit": 2048000,
      "implicitDf": true,
      "rowLimit": 10000
     },
     "inputWidgets": {},
     "nuid": "622367a4-d414-4232-88fa-91d31c2c6add",
     "showTitle": true,
     "tableResultSettingsMap": {},
     "title": "Query all the Customers files"
    }
   },
   "outputs": [],
   "source": [
    "%sql\n",
    "SELECT *\n",
    "FROM JSON.`/Volumes/gizmoboxcatalog/bronzeschema/rawfiles/customers/`"
   ]
  },
  {
   "cell_type": "code",
   "execution_count": 0,
   "metadata": {
    "application/vnd.databricks.v1+cell": {
     "cellMetadata": {
      "byteLimit": 2048000,
      "implicitDf": true,
      "rowLimit": 10000
     },
     "inputWidgets": {},
     "nuid": "4f2d3a8f-4469-47e8-bb76-d398feb3c31d",
     "showTitle": true,
     "tableResultSettingsMap": {},
     "title": "Select Meta Data of the file"
    }
   },
   "outputs": [],
   "source": [
    "%sql\n",
    "SELECT\n",
    "  _metadata.file_path as file_name, \n",
    "    *\n",
    "FROM json.`/Volumes/gizmoboxcatalog/bronzeschema/rawfiles/customers/`;"
   ]
  },
  {
   "cell_type": "code",
   "execution_count": 0,
   "metadata": {
    "application/vnd.databricks.v1+cell": {
     "cellMetadata": {
      "byteLimit": 2048000,
      "implicitDf": true,
      "rowLimit": 10000
     },
     "inputWidgets": {},
     "nuid": "db7d331c-3fc8-4afc-9ef8-534d80bfff63",
     "showTitle": true,
     "tableResultSettingsMap": {},
     "title": "Creating View for Customers"
    }
   },
   "outputs": [],
   "source": [
    "%sql\n",
    "CREATE OR REPLACE VIEW gizmoboxcatalog.bronzeschema.v_customers\n",
    "AS \n",
    "  SELECT\n",
    "    _metadata.file_path as file_name, \n",
    "    *\n",
    "  FROM json.`/Volumes/gizmoboxcatalog/bronzeschema/rawfiles/customers/`;"
   ]
  },
  {
   "cell_type": "code",
   "execution_count": 0,
   "metadata": {
    "application/vnd.databricks.v1+cell": {
     "cellMetadata": {
      "byteLimit": 2048000,
      "implicitDf": true,
      "rowLimit": 10000
     },
     "inputWidgets": {},
     "nuid": "2333bf8c-2b02-4966-ae98-229158aeb3a7",
     "showTitle": true,
     "tableResultSettingsMap": {},
     "title": "Checking the View"
    }
   },
   "outputs": [],
   "source": [
    "%sql\n",
    "SELECT *\n",
    "FROM gizmoboxcatalog.bronzeschema.v_customers\n",
    "limit 1;"
   ]
  },
  {
   "cell_type": "markdown",
   "metadata": {
    "application/vnd.databricks.v1+cell": {
     "cellMetadata": {
      "byteLimit": 2048000,
      "rowLimit": 10000
     },
     "inputWidgets": {},
     "nuid": "63448533-b011-43c0-a3e1-01b8bae305e1",
     "showTitle": false,
     "tableResultSettingsMap": {},
     "title": ""
    }
   },
   "source": [
    "### Extracting the Orders Data"
   ]
  },
  {
   "cell_type": "code",
   "execution_count": 0,
   "metadata": {
    "application/vnd.databricks.v1+cell": {
     "cellMetadata": {
      "byteLimit": 2048000,
      "implicitDf": true,
      "rowLimit": 10000
     },
     "inputWidgets": {},
     "nuid": "fb64c35a-b096-4fc8-b22f-a1d5ae39ee55",
     "showTitle": true,
     "tableResultSettingsMap": {},
     "title": "Exploring the Orders Data"
    }
   },
   "outputs": [],
   "source": [
    "%sql\n",
    "SELECT *\n",
    "FROM json.`/Volumes/gizmoboxcatalog/bronzeschema/rawfiles/Orders/`"
   ]
  },
  {
   "cell_type": "markdown",
   "metadata": {
    "application/vnd.databricks.v1+cell": {
     "cellMetadata": {
      "byteLimit": 2048000,
      "rowLimit": 10000
     },
     "inputWidgets": {},
     "nuid": "e817cd7c-9cf8-4ca8-b194-5847c0d8c5fd",
     "showTitle": false,
     "tableResultSettingsMap": {},
     "title": ""
    }
   },
   "source": [
    "### As seen above the data is not as per the standard data required \n",
    "- Some of the order dates are missing with the double quotes \"\"\n",
    "- We need to apply some transformations \n",
    "- Need to handle Null values \n",
    "- In order to do that we need to read the file as text and not Json"
   ]
  },
  {
   "cell_type": "code",
   "execution_count": 0,
   "metadata": {
    "application/vnd.databricks.v1+cell": {
     "cellMetadata": {
      "byteLimit": 2048000,
      "implicitDf": true,
      "rowLimit": 10000
     },
     "inputWidgets": {},
     "nuid": "e1126922-7e25-40d1-868c-318ceca768b4",
     "showTitle": true,
     "tableResultSettingsMap": {},
     "title": "Reading the same data as text"
    }
   },
   "outputs": [],
   "source": [
    "%sql\n",
    "SELECT *\n",
    "FROM text.`/Volumes/gizmoboxcatalog/bronzeschema/rawfiles/Orders/`"
   ]
  },
  {
   "cell_type": "code",
   "execution_count": 0,
   "metadata": {
    "application/vnd.databricks.v1+cell": {
     "cellMetadata": {
      "byteLimit": 2048000,
      "implicitDf": true,
      "rowLimit": 10000
     },
     "inputWidgets": {},
     "nuid": "5b211f37-16b7-41ab-916a-f1143a8cc746",
     "showTitle": true,
     "tableResultSettingsMap": {},
     "title": "Creating Orders View in the Bronze Layer"
    }
   },
   "outputs": [],
   "source": [
    "%sql\n",
    "CREATE OR REPLACE VIEW gizmoboxcatalog.bronzeschema.v_orders\n",
    "AS\n",
    "SELECT *\n",
    "FROM text.`/Volumes/gizmoboxcatalog/bronzeschema/rawfiles/Orders/`;\n",
    "\n",
    "SELECT * \n",
    "FROM gizmoboxcatalog.bronzeschema.v_orders;"
   ]
  },
  {
   "cell_type": "markdown",
   "metadata": {
    "application/vnd.databricks.v1+cell": {
     "cellMetadata": {
      "byteLimit": 2048000,
      "rowLimit": 10000
     },
     "inputWidgets": {},
     "nuid": "47f26489-9c75-45b1-a3d1-de439b61a39d",
     "showTitle": false,
     "tableResultSettingsMap": {},
     "title": ""
    }
   },
   "source": [
    "### Extracting the Address Data"
   ]
  },
  {
   "cell_type": "code",
   "execution_count": 0,
   "metadata": {
    "application/vnd.databricks.v1+cell": {
     "cellMetadata": {
      "byteLimit": 2048000,
      "implicitDf": true,
      "rowLimit": 10000
     },
     "inputWidgets": {},
     "nuid": "281e9a7b-b28a-415a-a50b-13e2260508cc",
     "showTitle": true,
     "tableResultSettingsMap": {},
     "title": "Exploring the Addresses Data"
    }
   },
   "outputs": [],
   "source": [
    "%sql\n",
    "SELECT *\n",
    "FROM csv.`/Volumes/gizmoboxcatalog/bronzeschema/rawfiles/addresses/`"
   ]
  },
  {
   "cell_type": "markdown",
   "metadata": {
    "application/vnd.databricks.v1+cell": {
     "cellMetadata": {
      "byteLimit": 2048000,
      "rowLimit": 10000
     },
     "inputWidgets": {},
     "nuid": "8bff134d-018c-4fb2-89ee-8782e51c0df2",
     "showTitle": false,
     "tableResultSettingsMap": {},
     "title": ""
    }
   },
   "source": [
    "### As the above data is not as per the standard we need to\n",
    "- Extract the data using the read files to tell the reader about the headers \n",
    "- Also we need to parse the data"
   ]
  },
  {
   "cell_type": "code",
   "execution_count": 0,
   "metadata": {
    "application/vnd.databricks.v1+cell": {
     "cellMetadata": {
      "byteLimit": 2048000,
      "implicitDf": true,
      "rowLimit": 10000
     },
     "inputWidgets": {},
     "nuid": "a7f12e76-8536-46f2-9466-256001cf9d51",
     "showTitle": true,
     "tableResultSettingsMap": {},
     "title": "Reading the data with READ_FILES()"
    }
   },
   "outputs": [],
   "source": [
    "%sql\n",
    "SELECT *\n",
    "FROM READ_FILES(\n",
    "                '/Volumes/gizmoboxcatalog/bronzeschema/rawfiles/addresses/',\n",
    "                format => 'csv', \n",
    "                delimiter => '\\t',\n",
    "                header => true\n",
    "              );"
   ]
  },
  {
   "cell_type": "code",
   "execution_count": 0,
   "metadata": {
    "application/vnd.databricks.v1+cell": {
     "cellMetadata": {
      "byteLimit": 2048000,
      "implicitDf": true,
      "rowLimit": 10000
     },
     "inputWidgets": {},
     "nuid": "e88919f1-a9a6-47b1-9718-5486ec0a397e",
     "showTitle": true,
     "tableResultSettingsMap": {},
     "title": "Creating the view for addresses"
    }
   },
   "outputs": [],
   "source": [
    "%sql\n",
    "CREATE OR REPLACE VIEW gizmoboxcatalog.bronzeschema.v_addresses\n",
    "AS \n",
    "SELECT *\n",
    "FROM READ_FILES(\n",
    "                '/Volumes/gizmoboxcatalog/bronzeschema/rawfiles/addresses/',\n",
    "                format => 'csv', \n",
    "                delimiter => '\\t',\n",
    "                header => true\n",
    "              );\n",
    "\n",
    "SELECT *\n",
    "FROM gizmoboxcatalog.bronzeschema.v_addresses;"
   ]
  },
  {
   "cell_type": "markdown",
   "metadata": {
    "application/vnd.databricks.v1+cell": {
     "cellMetadata": {
      "byteLimit": 2048000,
      "rowLimit": 10000
     },
     "inputWidgets": {},
     "nuid": "8de11b25-b9f8-4a8a-b05a-06d01b46eaec",
     "showTitle": false,
     "tableResultSettingsMap": {},
     "title": ""
    }
   },
   "source": [
    "### Extract the Payments Data "
   ]
  },
  {
   "cell_type": "code",
   "execution_count": 0,
   "metadata": {
    "application/vnd.databricks.v1+cell": {
     "cellMetadata": {
      "byteLimit": 2048000,
      "implicitDf": true,
      "rowLimit": 10000
     },
     "inputWidgets": {},
     "nuid": "245f4e71-bff6-46bf-a56b-79c431bd0e95",
     "showTitle": true,
     "tableResultSettingsMap": {},
     "title": "Exploring the Payments Data"
    }
   },
   "outputs": [],
   "source": [
    "%sql\n",
    "-- Step 1: Define schema\n",
    "CREATE OR REPLACE TABLE gizmoboxcatalog.bronzeschema.payments \n",
    "(\n",
    "  payment_id INTEGER,\n",
    "  order_id INTEGER,\n",
    "  payment_timestamp TIMESTAMP,\n",
    "  payment_status INTEGER, \n",
    "  payment_method STRING\n",
    ");\n",
    "\n",
    "-- Step 2: Load data from CSV in Volume\n",
    "INSERT INTO gizmoboxcatalog.bronzeschema.payments\n",
    "SELECT\n",
    "  CAST(_c0 AS INTEGER)        AS payment_id,\n",
    "  CAST(_c1 AS INTEGER)        AS order_id,\n",
    "  CAST(_c2 AS TIMESTAMP)      AS payment_timestamp,\n",
    "  CAST(_c3 AS INTEGER)        AS payment_status,\n",
    "  CAST(_c4 AS STRING)         AS payment_method\n",
    "FROM read_files(\n",
    "  '/Volumes/gizmoboxcatalog/bronzeschema/rawfiles/Payments/',\n",
    "  format => 'csv',\n",
    "  header => false,\n",
    "  delimiter => ','\n",
    ");\n"
   ]
  },
  {
   "cell_type": "code",
   "execution_count": 0,
   "metadata": {
    "application/vnd.databricks.v1+cell": {
     "cellMetadata": {
      "byteLimit": 2048000,
      "implicitDf": true,
      "rowLimit": 10000
     },
     "inputWidgets": {},
     "nuid": "abb979ba-368c-4a71-9b21-7a4fa244087b",
     "showTitle": true,
     "tableResultSettingsMap": {},
     "title": "Checking the table "
    }
   },
   "outputs": [],
   "source": [
    "%sql\n",
    "SELECT *\n",
    "FROM gizmoboxcatalog.bronzeschema.payments;"
   ]
  },
  {
   "cell_type": "code",
   "execution_count": 0,
   "metadata": {
    "application/vnd.databricks.v1+cell": {
     "cellMetadata": {
      "byteLimit": 2048000,
      "implicitDf": true,
      "rowLimit": 10000
     },
     "inputWidgets": {},
     "nuid": "d5d86e5a-4cbb-4f7b-a8b4-7276fd2d8ed3",
     "showTitle": true,
     "tableResultSettingsMap": {},
     "title": "Setting the Refresh command"
    }
   },
   "outputs": [],
   "source": [
    "# %sql\n",
    "# REFRESH TABLE gizmoboxcatalog.bronzeschema.payments;"
   ]
  }
 ],
 "metadata": {
  "application/vnd.databricks.v1+notebook": {
   "computePreferences": null,
   "dashboards": [],
   "environmentMetadata": {
    "base_environment": "",
    "environment_version": "3"
   },
   "inputWidgetPreferences": null,
   "language": "python",
   "notebookMetadata": {
    "mostRecentlyExecutedCommandWithImplicitDF": {
     "commandId": 7403724585987108,
     "dataframes": [
      "_sqldf"
     ]
    },
    "pythonIndentUnit": 4
   },
   "notebookName": "BronzeNotebook",
   "widgets": {}
  },
  "language_info": {
   "name": "python"
  }
 },
 "nbformat": 4,
 "nbformat_minor": 0
}
